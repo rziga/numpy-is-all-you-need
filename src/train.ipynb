{
 "cells": [
  {
   "cell_type": "code",
   "execution_count": 166,
   "metadata": {},
   "outputs": [
    {
     "name": "stdout",
     "output_type": "stream",
     "text": [
      "44902\n"
     ]
    }
   ],
   "source": [
    "import numpy as np\n",
    "import matplotlib.pyplot as plt\n",
    "from nn.layers.transformer import Transformer\n",
    "from nn.losses.classification import CategoricalCrossentropy\n",
    "from nn.optimizers.first_order import Adam\n",
    "\n",
    "with open(\"../data/resources/saved_datasets/tiny_shakespeare.txt\", \"r\") as f:\n",
    "    o = f.read().splitlines()\n",
    "\n",
    "datastr = \" \".join(o).lower()#[:100]\n",
    "split = int(0.8 * len(datastr))\n",
    "train = datastr[:split]\n",
    "val   = datastr[split:]\n",
    "vocab = sorted(list(set(datastr)))\n",
    "\n",
    "def sample_data(example_len, data):\n",
    "    start_idx = np.random.randint(len(data)-example_len)\n",
    "    example = data[start_idx:start_idx+example_len]\n",
    "    return np.array([vocab.index(c) for c in example])\n",
    "\n",
    "def generate_batch(batch_size, block_size, data):\n",
    "    data = np.array([sample_data(block_size+1, data) for _ in range(batch_size)])\n",
    "    decoder_inputs = data[:, :-1]\n",
    "    targets        = data[:, 1:]\n",
    "    encoder_inputs = np.ones_like(decoder_inputs)\n",
    "    return encoder_inputs, decoder_inputs, targets\n",
    "\n",
    "block_size = 16 # sequence length\n",
    "batch_size = 128 # batch size\n",
    "d_model = 32 # dimesion of embedding\n",
    "d_hidden = 4 # attention dimension\n",
    "d_ff = 64 # FF projection dimension\n",
    "n_heads = 8 # number of attention heads\n",
    "n_layers = 2 # number of encoder and decoder layers\n",
    "vocab_size = len(vocab)\n",
    "np.random.seed(1337)\n",
    "\n",
    "model = Transformer(vocab_size, n_layers, n_heads, d_model, d_hidden, d_ff)\n",
    "loss  = CategoricalCrossentropy()\n",
    "optim = Adam(model.parameters(), 1e-3, 0.9, 0.999)\n",
    "\n",
    "print(model.n_params())"
   ]
  },
  {
   "cell_type": "code",
   "execution_count": 165,
   "metadata": {},
   "outputs": [
    {
     "name": "stdout",
     "output_type": "stream",
     "text": [
      "step: 0, train loss: 8.360, val loss: 8.176\n",
      "step: 10, train loss: 7.821, val loss: 7.362\n",
      "step: 20, train loss: 7.113, val loss: 6.847\n",
      "step: 30, train loss: 6.570, val loss: 6.276\n",
      "step: 40, train loss: 6.059, val loss: 5.739\n",
      "step: 50, train loss: 5.544, val loss: 5.230\n",
      "step: 60, train loss: 5.045, val loss: 4.782\n",
      "step: 70, train loss: 4.655, val loss: 4.428\n",
      "step: 80, train loss: 4.305, val loss: 4.172\n",
      "step: 90, train loss: 4.135, val loss: 4.090\n",
      "step: 100, train loss: 4.054, val loss: 3.985\n",
      "step: 110, train loss: 3.941, val loss: 3.889\n",
      "step: 120, train loss: 3.905, val loss: 3.839\n",
      "step: 130, train loss: 3.811, val loss: 3.796\n",
      "step: 140, train loss: 3.776, val loss: 3.740\n",
      "step: 150, train loss: 3.714, val loss: 3.677\n",
      "step: 160, train loss: 3.687, val loss: 3.639\n",
      "step: 170, train loss: 3.657, val loss: 3.612\n",
      "step: 180, train loss: 3.607, val loss: 3.574\n",
      "step: 190, train loss: 3.588, val loss: 3.542\n",
      "step: 200, train loss: 3.565, val loss: 3.523\n",
      "step: 210, train loss: 3.526, val loss: 3.488\n",
      "step: 220, train loss: 3.517, val loss: 3.478\n",
      "step: 230, train loss: 3.479, val loss: 3.466\n",
      "step: 240, train loss: 3.457, val loss: 3.424\n",
      "step: 250, train loss: 3.422, val loss: 3.404\n",
      "step: 260, train loss: 3.422, val loss: 3.380\n",
      "step: 270, train loss: 3.376, val loss: 3.356\n",
      "step: 280, train loss: 3.372, val loss: 3.352\n",
      "step: 290, train loss: 3.360, val loss: 3.330\n",
      "step: 300, train loss: 3.315, val loss: 3.310\n",
      "step: 310, train loss: 3.311, val loss: 3.301\n",
      "step: 320, train loss: 3.320, val loss: 3.279\n",
      "step: 330, train loss: 3.289, val loss: 3.269\n",
      "step: 340, train loss: 3.267, val loss: 3.257\n",
      "step: 350, train loss: 3.256, val loss: 3.248\n",
      "step: 360, train loss: 3.239, val loss: 3.236\n",
      "step: 370, train loss: 3.234, val loss: 3.220\n",
      "step: 380, train loss: 3.215, val loss: 3.213\n",
      "step: 390, train loss: 3.203, val loss: 3.191\n",
      "step: 400, train loss: 3.209, val loss: 3.188\n",
      "step: 410, train loss: 3.185, val loss: 3.184\n",
      "step: 420, train loss: 3.181, val loss: 3.164\n",
      "step: 430, train loss: 3.179, val loss: 3.149\n",
      "step: 440, train loss: 3.152, val loss: 3.155\n",
      "step: 450, train loss: 3.157, val loss: 3.145\n",
      "step: 460, train loss: 3.135, val loss: 3.126\n",
      "step: 470, train loss: 3.139, val loss: 3.128\n",
      "step: 480, train loss: 3.137, val loss: 3.126\n",
      "step: 490, train loss: 3.120, val loss: 3.120\n",
      "step: 500, train loss: 3.117, val loss: 3.118\n",
      "step: 510, train loss: 3.094, val loss: 3.102\n",
      "step: 520, train loss: 3.092, val loss: 3.101\n",
      "step: 530, train loss: 3.090, val loss: 3.092\n",
      "step: 540, train loss: 3.088, val loss: 3.089\n",
      "step: 550, train loss: 3.075, val loss: 3.086\n",
      "step: 560, train loss: 3.064, val loss: 3.073\n",
      "step: 570, train loss: 3.073, val loss: 3.071\n",
      "step: 580, train loss: 3.060, val loss: 3.054\n",
      "step: 590, train loss: 3.047, val loss: 3.052\n",
      "step: 600, train loss: 3.048, val loss: 3.050\n",
      "step: 610, train loss: 3.045, val loss: 3.047\n",
      "step: 620, train loss: 3.036, val loss: 3.054\n",
      "step: 630, train loss: 3.045, val loss: 3.039\n",
      "step: 640, train loss: 3.034, val loss: 3.035\n",
      "step: 650, train loss: 3.039, val loss: 3.031\n",
      "step: 660, train loss: 3.007, val loss: 3.032\n",
      "step: 670, train loss: 3.026, val loss: 3.024\n",
      "step: 680, train loss: 3.027, val loss: 3.017\n",
      "step: 690, train loss: 3.021, val loss: 3.023\n",
      "step: 700, train loss: 3.024, val loss: 3.014\n",
      "step: 710, train loss: 3.020, val loss: 3.010\n",
      "step: 720, train loss: 3.007, val loss: 3.005\n",
      "step: 730, train loss: 3.019, val loss: 3.002\n",
      "step: 740, train loss: 3.005, val loss: 2.995\n",
      "step: 750, train loss: 2.998, val loss: 2.997\n",
      "step: 760, train loss: 3.003, val loss: 3.008\n",
      "step: 770, train loss: 3.008, val loss: 2.998\n",
      "step: 780, train loss: 3.004, val loss: 2.990\n",
      "step: 790, train loss: 2.993, val loss: 2.990\n",
      "step: 800, train loss: 2.995, val loss: 2.995\n",
      "step: 810, train loss: 2.998, val loss: 2.992\n",
      "step: 820, train loss: 2.983, val loss: 2.977\n",
      "step: 830, train loss: 2.998, val loss: 2.988\n",
      "step: 840, train loss: 2.992, val loss: 2.986\n",
      "step: 850, train loss: 2.995, val loss: 2.995\n",
      "step: 860, train loss: 2.990, val loss: 2.981\n",
      "step: 870, train loss: 2.990, val loss: 2.977\n",
      "step: 880, train loss: 2.995, val loss: 2.989\n",
      "step: 890, train loss: 2.985, val loss: 2.982\n",
      "step: 900, train loss: 2.985, val loss: 2.976\n",
      "step: 910, train loss: 2.979, val loss: 2.984\n",
      "step: 920, train loss: 2.975, val loss: 2.977\n",
      "step: 930, train loss: 2.979, val loss: 2.976\n",
      "step: 940, train loss: 2.989, val loss: 2.986\n",
      "step: 950, train loss: 2.975, val loss: 2.975\n",
      "step: 960, train loss: 2.984, val loss: 2.983\n",
      "step: 970, train loss: 2.969, val loss: 2.963\n",
      "step: 980, train loss: 2.983, val loss: 2.975\n",
      "step: 990, train loss: 2.964, val loss: 2.977\n",
      "step: 1000, train loss: 2.972, val loss: 2.980\n",
      "step: 1010, train loss: 2.966, val loss: 2.972\n",
      "step: 1020, train loss: 2.970, val loss: 2.972\n",
      "step: 1030, train loss: 2.983, val loss: 2.967\n",
      "step: 1040, train loss: 2.967, val loss: 2.970\n",
      "step: 1050, train loss: 2.974, val loss: 2.965\n",
      "step: 1060, train loss: 2.967, val loss: 2.962\n",
      "step: 1070, train loss: 2.976, val loss: 2.973\n",
      "step: 1080, train loss: 2.973, val loss: 2.965\n",
      "step: 1090, train loss: 2.982, val loss: 2.968\n",
      "step: 1100, train loss: 2.979, val loss: 2.974\n",
      "step: 1110, train loss: 2.970, val loss: 2.965\n",
      "step: 1120, train loss: 2.961, val loss: 2.965\n",
      "step: 1130, train loss: 2.961, val loss: 2.970\n",
      "step: 1140, train loss: 2.958, val loss: 2.974\n",
      "step: 1150, train loss: 2.968, val loss: 2.964\n",
      "step: 1160, train loss: 2.971, val loss: 2.964\n",
      "step: 1170, train loss: 2.966, val loss: 2.965\n",
      "step: 1180, train loss: 2.962, val loss: 2.964\n",
      "step: 1190, train loss: 2.963, val loss: 2.956\n",
      "step: 1200, train loss: 2.964, val loss: 2.963\n",
      "step: 1210, train loss: 2.968, val loss: 2.962\n",
      "step: 1220, train loss: 2.970, val loss: 2.970\n",
      "step: 1230, train loss: 2.961, val loss: 2.975\n",
      "step: 1240, train loss: 2.970, val loss: 2.962\n",
      "step: 1250, train loss: 2.961, val loss: 2.971\n",
      "step: 1260, train loss: 2.972, val loss: 2.955\n",
      "step: 1270, train loss: 2.963, val loss: 2.959\n",
      "step: 1280, train loss: 2.960, val loss: 2.952\n",
      "step: 1290, train loss: 2.953, val loss: 2.963\n",
      "step: 1300, train loss: 2.959, val loss: 2.963\n",
      "step: 1310, train loss: 2.968, val loss: 2.963\n",
      "step: 1320, train loss: 2.960, val loss: 2.964\n",
      "step: 1330, train loss: 2.959, val loss: 2.968\n",
      "step: 1340, train loss: 2.962, val loss: 2.966\n",
      "step: 1350, train loss: 2.966, val loss: 2.962\n",
      "step: 1360, train loss: 2.949, val loss: 2.959\n",
      "step: 1370, train loss: 2.957, val loss: 2.968\n",
      "step: 1380, train loss: 2.966, val loss: 2.951\n",
      "step: 1390, train loss: 2.961, val loss: 2.963\n",
      "step: 1400, train loss: 2.956, val loss: 2.961\n",
      "step: 1410, train loss: 2.950, val loss: 2.959\n",
      "step: 1420, train loss: 2.956, val loss: 2.963\n",
      "step: 1430, train loss: 2.960, val loss: 2.943\n",
      "step: 1440, train loss: 2.957, val loss: 2.956\n",
      "step: 1450, train loss: 2.952, val loss: 2.958\n"
     ]
    },
    {
     "ename": "KeyboardInterrupt",
     "evalue": "",
     "output_type": "error",
     "traceback": [
      "\u001b[0;31m---------------------------------------------------------------------------\u001b[0m",
      "\u001b[0;31mKeyboardInterrupt\u001b[0m                         Traceback (most recent call last)",
      "\u001b[1;32m/home/joze/sala/transformer-numpy/src/train.ipynb Cell 2\u001b[0m line \u001b[0;36m9\n\u001b[1;32m      <a href='vscode-notebook-cell://wsl%2Bubuntu/home/joze/sala/transformer-numpy/src/train.ipynb#W1sdnNjb2RlLXJlbW90ZQ%3D%3D?line=5'>6</a>\u001b[0m optim\u001b[39m.\u001b[39mzero_grad()\n\u001b[1;32m      <a href='vscode-notebook-cell://wsl%2Bubuntu/home/joze/sala/transformer-numpy/src/train.ipynb#W1sdnNjb2RlLXJlbW90ZQ%3D%3D?line=7'>8</a>\u001b[0m x_enc, x_dec, y \u001b[39m=\u001b[39m generate_batch(batch_size, block_size, train)\n\u001b[0;32m----> <a href='vscode-notebook-cell://wsl%2Bubuntu/home/joze/sala/transformer-numpy/src/train.ipynb#W1sdnNjb2RlLXJlbW90ZQ%3D%3D?line=8'>9</a>\u001b[0m y_pred \u001b[39m=\u001b[39m model([x_enc, x_dec])\n\u001b[1;32m     <a href='vscode-notebook-cell://wsl%2Bubuntu/home/joze/sala/transformer-numpy/src/train.ipynb#W1sdnNjb2RlLXJlbW90ZQ%3D%3D?line=9'>10</a>\u001b[0m l \u001b[39m=\u001b[39m loss\u001b[39m.\u001b[39mcalculate(y, y_pred)\n\u001b[1;32m     <a href='vscode-notebook-cell://wsl%2Bubuntu/home/joze/sala/transformer-numpy/src/train.ipynb#W1sdnNjb2RlLXJlbW90ZQ%3D%3D?line=10'>11</a>\u001b[0m history[\u001b[39m\"\u001b[39m\u001b[39mtrain\u001b[39m\u001b[39m\"\u001b[39m]\u001b[39m.\u001b[39mappend(l)\n",
      "File \u001b[0;32m~/sala/transformer-numpy/src/nn/engine.py:60\u001b[0m, in \u001b[0;36mModule.__call__\u001b[0;34m(self, input)\u001b[0m\n\u001b[1;32m     59\u001b[0m \u001b[39mdef\u001b[39;00m \u001b[39m__call__\u001b[39m(\u001b[39mself\u001b[39m, \u001b[39minput\u001b[39m):\n\u001b[0;32m---> 60\u001b[0m     \u001b[39mreturn\u001b[39;00m \u001b[39mself\u001b[39;49m\u001b[39m.\u001b[39;49mforward(\u001b[39minput\u001b[39;49m)\n",
      "File \u001b[0;32m~/sala/transformer-numpy/src/nn/layers/transformer.py:161\u001b[0m, in \u001b[0;36mTransformer.forward\u001b[0;34m(self, input)\u001b[0m\n\u001b[1;32m    159\u001b[0m x_dec \u001b[39m=\u001b[39m \u001b[39mself\u001b[39m\u001b[39m.\u001b[39mdecoder_emb(dec_tokens)\n\u001b[1;32m    160\u001b[0m x_dec \u001b[39m=\u001b[39m x_dec \u001b[39m+\u001b[39m \u001b[39mself\u001b[39m\u001b[39m.\u001b[39mpos_encoding(x_dec\u001b[39m.\u001b[39mshape)\n\u001b[0;32m--> 161\u001b[0m x \u001b[39m=\u001b[39m \u001b[39mself\u001b[39;49m\u001b[39m.\u001b[39;49mdecoder([memory, x_dec])\n\u001b[1;32m    162\u001b[0m x \u001b[39m=\u001b[39m \u001b[39mself\u001b[39m\u001b[39m.\u001b[39mlin(x)\n\u001b[1;32m    163\u001b[0m \u001b[39mreturn\u001b[39;00m \u001b[39mself\u001b[39m\u001b[39m.\u001b[39msm(x)\n",
      "File \u001b[0;32m~/sala/transformer-numpy/src/nn/engine.py:60\u001b[0m, in \u001b[0;36mModule.__call__\u001b[0;34m(self, input)\u001b[0m\n\u001b[1;32m     59\u001b[0m \u001b[39mdef\u001b[39;00m \u001b[39m__call__\u001b[39m(\u001b[39mself\u001b[39m, \u001b[39minput\u001b[39m):\n\u001b[0;32m---> 60\u001b[0m     \u001b[39mreturn\u001b[39;00m \u001b[39mself\u001b[39;49m\u001b[39m.\u001b[39;49mforward(\u001b[39minput\u001b[39;49m)\n",
      "File \u001b[0;32m~/sala/transformer-numpy/src/nn/layers/transformer.py:126\u001b[0m, in \u001b[0;36mDecoder.forward\u001b[0;34m(self, input)\u001b[0m\n\u001b[1;32m    124\u001b[0m memory, x \u001b[39m=\u001b[39m \u001b[39minput\u001b[39m\n\u001b[1;32m    125\u001b[0m \u001b[39mfor\u001b[39;00m block \u001b[39min\u001b[39;00m \u001b[39mself\u001b[39m\u001b[39m.\u001b[39mblocks:\n\u001b[0;32m--> 126\u001b[0m     x \u001b[39m=\u001b[39m block([memory, x])\n\u001b[1;32m    127\u001b[0m \u001b[39mreturn\u001b[39;00m x\n",
      "File \u001b[0;32m~/sala/transformer-numpy/src/nn/engine.py:60\u001b[0m, in \u001b[0;36mModule.__call__\u001b[0;34m(self, input)\u001b[0m\n\u001b[1;32m     59\u001b[0m \u001b[39mdef\u001b[39;00m \u001b[39m__call__\u001b[39m(\u001b[39mself\u001b[39m, \u001b[39minput\u001b[39m):\n\u001b[0;32m---> 60\u001b[0m     \u001b[39mreturn\u001b[39;00m \u001b[39mself\u001b[39;49m\u001b[39m.\u001b[39;49mforward(\u001b[39minput\u001b[39;49m)\n",
      "File \u001b[0;32m~/sala/transformer-numpy/src/nn/layers/transformer.py:95\u001b[0m, in \u001b[0;36mDecoderBlock.forward\u001b[0;34m(self, input)\u001b[0m\n\u001b[1;32m     93\u001b[0m memory, x \u001b[39m=\u001b[39m \u001b[39minput\u001b[39m\n\u001b[1;32m     94\u001b[0m x \u001b[39m=\u001b[39m \u001b[39mself\u001b[39m\u001b[39m.\u001b[39msb1(x)\n\u001b[0;32m---> 95\u001b[0m x \u001b[39m=\u001b[39m \u001b[39mself\u001b[39;49m\u001b[39m.\u001b[39;49msb2([memory, x])\n\u001b[1;32m     96\u001b[0m \u001b[39mreturn\u001b[39;00m \u001b[39mself\u001b[39m\u001b[39m.\u001b[39msb3(x)\n",
      "File \u001b[0;32m~/sala/transformer-numpy/src/nn/engine.py:60\u001b[0m, in \u001b[0;36mModule.__call__\u001b[0;34m(self, input)\u001b[0m\n\u001b[1;32m     59\u001b[0m \u001b[39mdef\u001b[39;00m \u001b[39m__call__\u001b[39m(\u001b[39mself\u001b[39m, \u001b[39minput\u001b[39m):\n\u001b[0;32m---> 60\u001b[0m     \u001b[39mreturn\u001b[39;00m \u001b[39mself\u001b[39;49m\u001b[39m.\u001b[39;49mforward(\u001b[39minput\u001b[39;49m)\n",
      "File \u001b[0;32m~/sala/transformer-numpy/src/nn/layers/transformer.py:50\u001b[0m, in \u001b[0;36mCrossSubBlock.forward\u001b[0;34m(self, input)\u001b[0m\n\u001b[1;32m     48\u001b[0m \u001b[39mdef\u001b[39;00m \u001b[39mforward\u001b[39m(\u001b[39mself\u001b[39m, \u001b[39minput\u001b[39m):\n\u001b[1;32m     49\u001b[0m     x_e, x_d \u001b[39m=\u001b[39m \u001b[39minput\u001b[39m\n\u001b[0;32m---> 50\u001b[0m     x \u001b[39m=\u001b[39m \u001b[39mself\u001b[39;49m\u001b[39m.\u001b[39;49mattention([x_e, x_e, x_d])\n\u001b[1;32m     51\u001b[0m     x \u001b[39m=\u001b[39m x \u001b[39m+\u001b[39m x_d\n\u001b[1;32m     52\u001b[0m     \u001b[39mreturn\u001b[39;00m \u001b[39mself\u001b[39m\u001b[39m.\u001b[39mnorm(x)\n",
      "File \u001b[0;32m~/sala/transformer-numpy/src/nn/engine.py:60\u001b[0m, in \u001b[0;36mModule.__call__\u001b[0;34m(self, input)\u001b[0m\n\u001b[1;32m     59\u001b[0m \u001b[39mdef\u001b[39;00m \u001b[39m__call__\u001b[39m(\u001b[39mself\u001b[39m, \u001b[39minput\u001b[39m):\n\u001b[0;32m---> 60\u001b[0m     \u001b[39mreturn\u001b[39;00m \u001b[39mself\u001b[39;49m\u001b[39m.\u001b[39;49mforward(\u001b[39minput\u001b[39;49m)\n",
      "File \u001b[0;32m~/sala/transformer-numpy/src/nn/layers/attention.py:51\u001b[0m, in \u001b[0;36mMultiHeadAttention.forward\u001b[0;34m(self, input)\u001b[0m\n\u001b[1;32m     50\u001b[0m \u001b[39mdef\u001b[39;00m \u001b[39mforward\u001b[39m(\u001b[39mself\u001b[39m, \u001b[39minput\u001b[39m):\n\u001b[0;32m---> 51\u001b[0m     outs \u001b[39m=\u001b[39m [head(\u001b[39minput\u001b[39m) \u001b[39mfor\u001b[39;00m head \u001b[39min\u001b[39;00m \u001b[39mself\u001b[39m\u001b[39m.\u001b[39mheads]\n\u001b[1;32m     52\u001b[0m     x \u001b[39m=\u001b[39m np\u001b[39m.\u001b[39mconcatenate(outs, axis\u001b[39m=\u001b[39m\u001b[39m-\u001b[39m\u001b[39m1\u001b[39m)\n\u001b[1;32m     53\u001b[0m     \u001b[39mreturn\u001b[39;00m \u001b[39mself\u001b[39m\u001b[39m.\u001b[39mlin(x)\n",
      "File \u001b[0;32m~/sala/transformer-numpy/src/nn/layers/attention.py:51\u001b[0m, in \u001b[0;36m<listcomp>\u001b[0;34m(.0)\u001b[0m\n\u001b[1;32m     50\u001b[0m \u001b[39mdef\u001b[39;00m \u001b[39mforward\u001b[39m(\u001b[39mself\u001b[39m, \u001b[39minput\u001b[39m):\n\u001b[0;32m---> 51\u001b[0m     outs \u001b[39m=\u001b[39m [head(\u001b[39minput\u001b[39;49m) \u001b[39mfor\u001b[39;00m head \u001b[39min\u001b[39;00m \u001b[39mself\u001b[39m\u001b[39m.\u001b[39mheads]\n\u001b[1;32m     52\u001b[0m     x \u001b[39m=\u001b[39m np\u001b[39m.\u001b[39mconcatenate(outs, axis\u001b[39m=\u001b[39m\u001b[39m-\u001b[39m\u001b[39m1\u001b[39m)\n\u001b[1;32m     53\u001b[0m     \u001b[39mreturn\u001b[39;00m \u001b[39mself\u001b[39m\u001b[39m.\u001b[39mlin(x)\n",
      "File \u001b[0;32m~/sala/transformer-numpy/src/nn/engine.py:60\u001b[0m, in \u001b[0;36mModule.__call__\u001b[0;34m(self, input)\u001b[0m\n\u001b[1;32m     59\u001b[0m \u001b[39mdef\u001b[39;00m \u001b[39m__call__\u001b[39m(\u001b[39mself\u001b[39m, \u001b[39minput\u001b[39m):\n\u001b[0;32m---> 60\u001b[0m     \u001b[39mreturn\u001b[39;00m \u001b[39mself\u001b[39;49m\u001b[39m.\u001b[39;49mforward(\u001b[39minput\u001b[39;49m)\n",
      "File \u001b[0;32m~/sala/transformer-numpy/src/nn/layers/attention.py:27\u001b[0m, in \u001b[0;36mAttentionHead.forward\u001b[0;34m(self, input)\u001b[0m\n\u001b[1;32m     25\u001b[0m     \u001b[39mself\u001b[39m\u001b[39m.\u001b[39mmask \u001b[39m=\u001b[39m \u001b[39mself\u001b[39m\u001b[39m.\u001b[39mmask_fcn(x\u001b[39m.\u001b[39mshape)\n\u001b[1;32m     26\u001b[0m     x[\u001b[39mself\u001b[39m\u001b[39m.\u001b[39mmask \u001b[39m==\u001b[39m \u001b[39m0\u001b[39m] \u001b[39m=\u001b[39m \u001b[39m-\u001b[39m\u001b[39m1e11\u001b[39m\n\u001b[0;32m---> 27\u001b[0m x \u001b[39m=\u001b[39m \u001b[39mself\u001b[39;49m\u001b[39m.\u001b[39;49msm(x)\n\u001b[1;32m     28\u001b[0m \u001b[39mreturn\u001b[39;00m \u001b[39mself\u001b[39m\u001b[39m.\u001b[39mmm2([x, V])\n",
      "File \u001b[0;32m~/sala/transformer-numpy/src/nn/engine.py:60\u001b[0m, in \u001b[0;36mModule.__call__\u001b[0;34m(self, input)\u001b[0m\n\u001b[1;32m     59\u001b[0m \u001b[39mdef\u001b[39;00m \u001b[39m__call__\u001b[39m(\u001b[39mself\u001b[39m, \u001b[39minput\u001b[39m):\n\u001b[0;32m---> 60\u001b[0m     \u001b[39mreturn\u001b[39;00m \u001b[39mself\u001b[39;49m\u001b[39m.\u001b[39;49mforward(\u001b[39minput\u001b[39;49m)\n",
      "File \u001b[0;32m~/sala/transformer-numpy/src/nn/layers/activations.py:65\u001b[0m, in \u001b[0;36mSoftmax.forward\u001b[0;34m(self, input)\u001b[0m\n\u001b[1;32m     64\u001b[0m \u001b[39mdef\u001b[39;00m \u001b[39mforward\u001b[39m(\u001b[39mself\u001b[39m, \u001b[39minput\u001b[39m):\n\u001b[0;32m---> 65\u001b[0m     expx \u001b[39m=\u001b[39m np\u001b[39m.\u001b[39mexp(\u001b[39minput\u001b[39m \u001b[39m-\u001b[39m \u001b[39minput\u001b[39;49m\u001b[39m.\u001b[39;49mmax(axis\u001b[39m=\u001b[39;49m\u001b[39m-\u001b[39;49m\u001b[39m1\u001b[39;49m, keepdims\u001b[39m=\u001b[39;49m\u001b[39mTrue\u001b[39;49;00m))\n\u001b[1;32m     66\u001b[0m     \u001b[39mself\u001b[39m\u001b[39m.\u001b[39mO \u001b[39m=\u001b[39m expx \u001b[39m/\u001b[39m expx\u001b[39m.\u001b[39msum(axis\u001b[39m=\u001b[39m\u001b[39m-\u001b[39m\u001b[39m1\u001b[39m, keepdims\u001b[39m=\u001b[39m\u001b[39mTrue\u001b[39;00m)\n\u001b[1;32m     67\u001b[0m     \u001b[39mreturn\u001b[39;00m \u001b[39mself\u001b[39m\u001b[39m.\u001b[39mO\n",
      "File \u001b[0;32m~/envs/nn-venv/lib/python3.10/site-packages/numpy/core/_methods.py:41\u001b[0m, in \u001b[0;36m_amax\u001b[0;34m(a, axis, out, keepdims, initial, where)\u001b[0m\n\u001b[1;32m     39\u001b[0m \u001b[39mdef\u001b[39;00m \u001b[39m_amax\u001b[39m(a, axis\u001b[39m=\u001b[39m\u001b[39mNone\u001b[39;00m, out\u001b[39m=\u001b[39m\u001b[39mNone\u001b[39;00m, keepdims\u001b[39m=\u001b[39m\u001b[39mFalse\u001b[39;00m,\n\u001b[1;32m     40\u001b[0m           initial\u001b[39m=\u001b[39m_NoValue, where\u001b[39m=\u001b[39m\u001b[39mTrue\u001b[39;00m):\n\u001b[0;32m---> 41\u001b[0m     \u001b[39mreturn\u001b[39;00m umr_maximum(a, axis, \u001b[39mNone\u001b[39;49;00m, out, keepdims, initial, where)\n",
      "\u001b[0;31mKeyboardInterrupt\u001b[0m: "
     ]
    }
   ],
   "source": [
    "np.random.seed(1337)\n",
    "\n",
    "steps = 10000\n",
    "log_step = 10\n",
    "history = {\"train\": [], \"val\": []}\n",
    "for s in range(steps):\n",
    "    optim.zero_grad()\n",
    "\n",
    "    x_enc, x_dec, y = generate_batch(batch_size, block_size, train)\n",
    "    y_pred = model([x_enc, x_dec])\n",
    "    l = loss.calculate(y, y_pred)\n",
    "    history[\"train\"].append(l)\n",
    "\n",
    "    model.backward(loss.backward())\n",
    "    optim.step()\n",
    "\n",
    "    if s % log_step == 0:\n",
    "        x_enc, x_dec, y = generate_batch(batch_size*10, block_size, val)\n",
    "        y_pred = model([x_enc, x_dec])\n",
    "        l = loss.calculate(y, y_pred)\n",
    "        history[\"val\"] += log_step * [l]\n",
    "        print(f\"step: {s}, train loss: {np.mean(history['train'][-log_step:]):.3f}, val loss: {l:.3f}\")\n",
    "\n",
    "print(f\"min loss: {min(history['train'])}\")"
   ]
  },
  {
   "cell_type": "code",
   "execution_count": 135,
   "metadata": {},
   "outputs": [
    {
     "data": {
      "text/plain": [
       "<matplotlib.legend.Legend at 0x7fd1eb818250>"
      ]
     },
     "execution_count": 135,
     "metadata": {},
     "output_type": "execute_result"
    },
    {
     "data": {
      "image/png": "[encoded data removed]",
      "text/plain": [
       "<Figure size 640x480 with 1 Axes>"
      ]
     },
     "metadata": {},
     "output_type": "display_data"
    }
   ],
   "source": [
    "plt.plot(history[\"train\"], label=\"train\")\n",
    "plt.plot(history[\"val\"], label=\"val\")\n",
    "plt.legend()"
   ]
  },
  {
   "cell_type": "code",
   "execution_count": 150,
   "metadata": {},
   "outputs": [
    {
     "name": "stdout",
     "output_type": "stream",
     "text": [
      "input: ['b', 'i', 'a', 'n']\n",
      "pred: ['i', 'a', 'n', 'e']\n"
     ]
    }
   ],
   "source": [
    "x_enc, x_dec, y = generate_batch(batch_size*10, block_size, val)\n",
    "y_pred = model([x_enc[0], x_dec[0]])\n",
    "print(\"input:\", [vocab[i] for i in x_dec[0]])\n",
    "print(\"pred:\", [vocab[i] for i in y_pred.argmax(axis=-1)])"
   ]
  },
  {
   "cell_type": "code",
   "execution_count": 156,
   "metadata": {},
   "outputs": [
    {
     "name": "stdout",
     "output_type": "stream",
     "text": [
      "slai\n",
      " ,n,ff,h'h,nnh,fnh,,fn,foh,,nh,fnh,,fn,foh,,nh,fnh,,fn,foh,,nh,fnh,,fn,foh,,nh,fnh,,fn,foh,,nh,fnh,,\n"
     ]
    }
   ],
   "source": [
    "def generate_tokens(x_seed, out_len):\n",
    "    x_enc, x_dec = x_seed\n",
    "    for _ in range(out_len):\n",
    "        y_pred = model([x_enc, x_dec]).argmax(axis=-1)[-1]\n",
    "        x_enc[..., :-1] = x_enc[..., 1:]\n",
    "        x_enc[..., -1] = y_pred\n",
    "        yield vocab[y_pred]\n",
    "\n",
    "x_enc, x_dec, _ = generate_batch(1, 4, datastr)\n",
    "\n",
    "print(\"\".join([vocab[i] for i in x_dec[0]]))\n",
    "print(\"\".join([t for t in generate_tokens([x_enc[0], x_dec[0]], 100)]))"
   ]
  }
 ],
 "metadata": {
  "kernelspec": {
   "display_name": "nn-venv",
   "language": "python",
   "name": "python3"
  },
  "language_info": {
   "codemirror_mode": {
    "name": "ipython",
    "version": 3
   },
   "file_extension": ".py",
   "mimetype": "text/x-python",
   "name": "python",
   "nbconvert_exporter": "python",
   "pygments_lexer": "ipython3",
   "version": "3.10.12"
  },
  "orig_nbformat": 4
 },
 "nbformat": 4,
 "nbformat_minor": 2
}
